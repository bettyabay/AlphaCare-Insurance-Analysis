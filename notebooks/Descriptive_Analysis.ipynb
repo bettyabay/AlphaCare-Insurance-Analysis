{
 "cells": [
  {
   "cell_type": "markdown",
   "metadata": {},
   "source": [
    "**Descriptive Analysis**"
   ]
  },
  {
   "cell_type": "markdown",
   "metadata": {},
   "source": [
    "Imports"
   ]
  },
  {
   "cell_type": "code",
   "execution_count": 1,
   "metadata": {},
   "outputs": [],
   "source": [
    "import pandas as pd"
   ]
  },
  {
   "cell_type": "code",
   "execution_count": 2,
   "metadata": {},
   "outputs": [],
   "source": [
    "import os, sys\n",
    "sys.path.append(os.path.abspath(os.path.join('../scripts')))\n",
    "from Data_Selector import *\n",
    "from Data_Cleaner import *\n",
    "from Data_Visualizer import *\n",
    "from Data_Outlier_Handler import OutlierHandler"
   ]
  },
  {
   "cell_type": "markdown",
   "metadata": {},
   "source": [
    "**Data Reading**"
   ]
  },
  {
   "cell_type": "code",
   "execution_count": 3,
   "metadata": {},
   "outputs": [
    {
     "name": "stderr",
     "output_type": "stream",
     "text": [
      "C:\\Users\\USER\\AppData\\Local\\Temp\\ipykernel_20400\\2279570384.py:2: DtypeWarning: Columns (32,37) have mixed types. Specify dtype option on import or set low_memory=False.\n",
      "  df = pd.read_csv('../Data/MachineLearningRating_v3.txt', delimiter='|')\n"
     ]
    }
   ],
   "source": [
    "# Reading a file with a custom delimiter\n",
    "df = pd.read_csv('../Data/MachineLearningRating_v3.txt', delimiter='|')"
   ]
  },
  {
   "cell_type": "markdown",
   "metadata": {},
   "source": [
    "**Data Understanding**"
   ]
  },
  {
   "cell_type": "code",
   "execution_count": 4,
   "metadata": {},
   "outputs": [
    {
     "data": {
      "text/html": [
       "<div>\n",
       "<style scoped>\n",
       "    .dataframe tbody tr th:only-of-type {\n",
       "        vertical-align: middle;\n",
       "    }\n",
       "\n",
       "    .dataframe tbody tr th {\n",
       "        vertical-align: top;\n",
       "    }\n",
       "\n",
       "    .dataframe thead th {\n",
       "        text-align: right;\n",
       "    }\n",
       "</style>\n",
       "<table border=\"1\" class=\"dataframe\">\n",
       "  <thead>\n",
       "    <tr style=\"text-align: right;\">\n",
       "      <th></th>\n",
       "      <th>UnderwrittenCoverID</th>\n",
       "      <th>PolicyID</th>\n",
       "      <th>TransactionMonth</th>\n",
       "      <th>IsVATRegistered</th>\n",
       "      <th>Citizenship</th>\n",
       "      <th>LegalType</th>\n",
       "      <th>Title</th>\n",
       "      <th>Language</th>\n",
       "      <th>Bank</th>\n",
       "      <th>AccountType</th>\n",
       "      <th>...</th>\n",
       "      <th>ExcessSelected</th>\n",
       "      <th>CoverCategory</th>\n",
       "      <th>CoverType</th>\n",
       "      <th>CoverGroup</th>\n",
       "      <th>Section</th>\n",
       "      <th>Product</th>\n",
       "      <th>StatutoryClass</th>\n",
       "      <th>StatutoryRiskType</th>\n",
       "      <th>TotalPremium</th>\n",
       "      <th>TotalClaims</th>\n",
       "    </tr>\n",
       "  </thead>\n",
       "  <tbody>\n",
       "    <tr>\n",
       "      <th>0</th>\n",
       "      <td>145249</td>\n",
       "      <td>12827</td>\n",
       "      <td>2015-03-01 00:00:00</td>\n",
       "      <td>True</td>\n",
       "      <td></td>\n",
       "      <td>Close Corporation</td>\n",
       "      <td>Mr</td>\n",
       "      <td>English</td>\n",
       "      <td>First National Bank</td>\n",
       "      <td>Current account</td>\n",
       "      <td>...</td>\n",
       "      <td>Mobility - Windscreen</td>\n",
       "      <td>Windscreen</td>\n",
       "      <td>Windscreen</td>\n",
       "      <td>Comprehensive - Taxi</td>\n",
       "      <td>Motor Comprehensive</td>\n",
       "      <td>Mobility Metered Taxis: Monthly</td>\n",
       "      <td>Commercial</td>\n",
       "      <td>IFRS Constant</td>\n",
       "      <td>21.929825</td>\n",
       "      <td>0.0</td>\n",
       "    </tr>\n",
       "    <tr>\n",
       "      <th>1</th>\n",
       "      <td>145249</td>\n",
       "      <td>12827</td>\n",
       "      <td>2015-05-01 00:00:00</td>\n",
       "      <td>True</td>\n",
       "      <td></td>\n",
       "      <td>Close Corporation</td>\n",
       "      <td>Mr</td>\n",
       "      <td>English</td>\n",
       "      <td>First National Bank</td>\n",
       "      <td>Current account</td>\n",
       "      <td>...</td>\n",
       "      <td>Mobility - Windscreen</td>\n",
       "      <td>Windscreen</td>\n",
       "      <td>Windscreen</td>\n",
       "      <td>Comprehensive - Taxi</td>\n",
       "      <td>Motor Comprehensive</td>\n",
       "      <td>Mobility Metered Taxis: Monthly</td>\n",
       "      <td>Commercial</td>\n",
       "      <td>IFRS Constant</td>\n",
       "      <td>21.929825</td>\n",
       "      <td>0.0</td>\n",
       "    </tr>\n",
       "    <tr>\n",
       "      <th>2</th>\n",
       "      <td>145249</td>\n",
       "      <td>12827</td>\n",
       "      <td>2015-07-01 00:00:00</td>\n",
       "      <td>True</td>\n",
       "      <td></td>\n",
       "      <td>Close Corporation</td>\n",
       "      <td>Mr</td>\n",
       "      <td>English</td>\n",
       "      <td>First National Bank</td>\n",
       "      <td>Current account</td>\n",
       "      <td>...</td>\n",
       "      <td>Mobility - Windscreen</td>\n",
       "      <td>Windscreen</td>\n",
       "      <td>Windscreen</td>\n",
       "      <td>Comprehensive - Taxi</td>\n",
       "      <td>Motor Comprehensive</td>\n",
       "      <td>Mobility Metered Taxis: Monthly</td>\n",
       "      <td>Commercial</td>\n",
       "      <td>IFRS Constant</td>\n",
       "      <td>0.000000</td>\n",
       "      <td>0.0</td>\n",
       "    </tr>\n",
       "    <tr>\n",
       "      <th>3</th>\n",
       "      <td>145255</td>\n",
       "      <td>12827</td>\n",
       "      <td>2015-05-01 00:00:00</td>\n",
       "      <td>True</td>\n",
       "      <td></td>\n",
       "      <td>Close Corporation</td>\n",
       "      <td>Mr</td>\n",
       "      <td>English</td>\n",
       "      <td>First National Bank</td>\n",
       "      <td>Current account</td>\n",
       "      <td>...</td>\n",
       "      <td>Mobility - Metered Taxis - R2000</td>\n",
       "      <td>Own damage</td>\n",
       "      <td>Own Damage</td>\n",
       "      <td>Comprehensive - Taxi</td>\n",
       "      <td>Motor Comprehensive</td>\n",
       "      <td>Mobility Metered Taxis: Monthly</td>\n",
       "      <td>Commercial</td>\n",
       "      <td>IFRS Constant</td>\n",
       "      <td>512.848070</td>\n",
       "      <td>0.0</td>\n",
       "    </tr>\n",
       "    <tr>\n",
       "      <th>4</th>\n",
       "      <td>145255</td>\n",
       "      <td>12827</td>\n",
       "      <td>2015-07-01 00:00:00</td>\n",
       "      <td>True</td>\n",
       "      <td></td>\n",
       "      <td>Close Corporation</td>\n",
       "      <td>Mr</td>\n",
       "      <td>English</td>\n",
       "      <td>First National Bank</td>\n",
       "      <td>Current account</td>\n",
       "      <td>...</td>\n",
       "      <td>Mobility - Metered Taxis - R2000</td>\n",
       "      <td>Own damage</td>\n",
       "      <td>Own Damage</td>\n",
       "      <td>Comprehensive - Taxi</td>\n",
       "      <td>Motor Comprehensive</td>\n",
       "      <td>Mobility Metered Taxis: Monthly</td>\n",
       "      <td>Commercial</td>\n",
       "      <td>IFRS Constant</td>\n",
       "      <td>0.000000</td>\n",
       "      <td>0.0</td>\n",
       "    </tr>\n",
       "  </tbody>\n",
       "</table>\n",
       "<p>5 rows × 52 columns</p>\n",
       "</div>"
      ],
      "text/plain": [
       "   UnderwrittenCoverID  PolicyID     TransactionMonth  IsVATRegistered  \\\n",
       "0               145249     12827  2015-03-01 00:00:00             True   \n",
       "1               145249     12827  2015-05-01 00:00:00             True   \n",
       "2               145249     12827  2015-07-01 00:00:00             True   \n",
       "3               145255     12827  2015-05-01 00:00:00             True   \n",
       "4               145255     12827  2015-07-01 00:00:00             True   \n",
       "\n",
       "  Citizenship          LegalType Title Language                 Bank  \\\n",
       "0              Close Corporation    Mr  English  First National Bank   \n",
       "1              Close Corporation    Mr  English  First National Bank   \n",
       "2              Close Corporation    Mr  English  First National Bank   \n",
       "3              Close Corporation    Mr  English  First National Bank   \n",
       "4              Close Corporation    Mr  English  First National Bank   \n",
       "\n",
       "       AccountType  ...                    ExcessSelected CoverCategory  \\\n",
       "0  Current account  ...             Mobility - Windscreen    Windscreen   \n",
       "1  Current account  ...             Mobility - Windscreen    Windscreen   \n",
       "2  Current account  ...             Mobility - Windscreen    Windscreen   \n",
       "3  Current account  ...  Mobility - Metered Taxis - R2000    Own damage   \n",
       "4  Current account  ...  Mobility - Metered Taxis - R2000    Own damage   \n",
       "\n",
       "    CoverType            CoverGroup              Section  \\\n",
       "0  Windscreen  Comprehensive - Taxi  Motor Comprehensive   \n",
       "1  Windscreen  Comprehensive - Taxi  Motor Comprehensive   \n",
       "2  Windscreen  Comprehensive - Taxi  Motor Comprehensive   \n",
       "3  Own Damage  Comprehensive - Taxi  Motor Comprehensive   \n",
       "4  Own Damage  Comprehensive - Taxi  Motor Comprehensive   \n",
       "\n",
       "                           Product StatutoryClass StatutoryRiskType  \\\n",
       "0  Mobility Metered Taxis: Monthly     Commercial     IFRS Constant   \n",
       "1  Mobility Metered Taxis: Monthly     Commercial     IFRS Constant   \n",
       "2  Mobility Metered Taxis: Monthly     Commercial     IFRS Constant   \n",
       "3  Mobility Metered Taxis: Monthly     Commercial     IFRS Constant   \n",
       "4  Mobility Metered Taxis: Monthly     Commercial     IFRS Constant   \n",
       "\n",
       "   TotalPremium TotalClaims  \n",
       "0     21.929825         0.0  \n",
       "1     21.929825         0.0  \n",
       "2      0.000000         0.0  \n",
       "3    512.848070         0.0  \n",
       "4      0.000000         0.0  \n",
       "\n",
       "[5 rows x 52 columns]"
      ]
     },
     "execution_count": 4,
     "metadata": {},
     "output_type": "execute_result"
    }
   ],
   "source": [
    "df.head()"
   ]
  },
  {
   "cell_type": "code",
   "execution_count": 5,
   "metadata": {},
   "outputs": [
    {
     "data": {
      "text/html": [
       "<div>\n",
       "<style scoped>\n",
       "    .dataframe tbody tr th:only-of-type {\n",
       "        vertical-align: middle;\n",
       "    }\n",
       "\n",
       "    .dataframe tbody tr th {\n",
       "        vertical-align: top;\n",
       "    }\n",
       "\n",
       "    .dataframe thead th {\n",
       "        text-align: right;\n",
       "    }\n",
       "</style>\n",
       "<table border=\"1\" class=\"dataframe\">\n",
       "  <thead>\n",
       "    <tr style=\"text-align: right;\">\n",
       "      <th></th>\n",
       "      <th>UnderwrittenCoverID</th>\n",
       "      <th>PolicyID</th>\n",
       "      <th>TransactionMonth</th>\n",
       "      <th>IsVATRegistered</th>\n",
       "      <th>Citizenship</th>\n",
       "      <th>LegalType</th>\n",
       "      <th>Title</th>\n",
       "      <th>Language</th>\n",
       "      <th>Bank</th>\n",
       "      <th>AccountType</th>\n",
       "      <th>...</th>\n",
       "      <th>ExcessSelected</th>\n",
       "      <th>CoverCategory</th>\n",
       "      <th>CoverType</th>\n",
       "      <th>CoverGroup</th>\n",
       "      <th>Section</th>\n",
       "      <th>Product</th>\n",
       "      <th>StatutoryClass</th>\n",
       "      <th>StatutoryRiskType</th>\n",
       "      <th>TotalPremium</th>\n",
       "      <th>TotalClaims</th>\n",
       "    </tr>\n",
       "  </thead>\n",
       "  <tbody>\n",
       "    <tr>\n",
       "      <th>1000093</th>\n",
       "      <td>31520</td>\n",
       "      <td>389</td>\n",
       "      <td>2015-04-01 00:00:00</td>\n",
       "      <td>False</td>\n",
       "      <td>ZW</td>\n",
       "      <td>Individual</td>\n",
       "      <td>Mr</td>\n",
       "      <td>English</td>\n",
       "      <td>ABSA Bank</td>\n",
       "      <td>Savings account</td>\n",
       "      <td>...</td>\n",
       "      <td>No excess</td>\n",
       "      <td>Third Party</td>\n",
       "      <td>Third Party</td>\n",
       "      <td>Comprehensive - Taxi</td>\n",
       "      <td>Motor Comprehensive</td>\n",
       "      <td>Mobility Commercial Cover: Monthly</td>\n",
       "      <td>Commercial</td>\n",
       "      <td>IFRS Constant</td>\n",
       "      <td>347.235175</td>\n",
       "      <td>0.0</td>\n",
       "    </tr>\n",
       "    <tr>\n",
       "      <th>1000094</th>\n",
       "      <td>31520</td>\n",
       "      <td>389</td>\n",
       "      <td>2015-06-01 00:00:00</td>\n",
       "      <td>False</td>\n",
       "      <td>ZW</td>\n",
       "      <td>Individual</td>\n",
       "      <td>Mr</td>\n",
       "      <td>English</td>\n",
       "      <td>ABSA Bank</td>\n",
       "      <td>Savings account</td>\n",
       "      <td>...</td>\n",
       "      <td>No excess</td>\n",
       "      <td>Third Party</td>\n",
       "      <td>Third Party</td>\n",
       "      <td>Comprehensive - Taxi</td>\n",
       "      <td>Motor Comprehensive</td>\n",
       "      <td>Mobility Commercial Cover: Monthly</td>\n",
       "      <td>Commercial</td>\n",
       "      <td>IFRS Constant</td>\n",
       "      <td>347.235175</td>\n",
       "      <td>0.0</td>\n",
       "    </tr>\n",
       "    <tr>\n",
       "      <th>1000095</th>\n",
       "      <td>31520</td>\n",
       "      <td>389</td>\n",
       "      <td>2015-08-01 00:00:00</td>\n",
       "      <td>False</td>\n",
       "      <td>ZW</td>\n",
       "      <td>Individual</td>\n",
       "      <td>Mr</td>\n",
       "      <td>English</td>\n",
       "      <td>ABSA Bank</td>\n",
       "      <td>Savings account</td>\n",
       "      <td>...</td>\n",
       "      <td>No excess</td>\n",
       "      <td>Third Party</td>\n",
       "      <td>Third Party</td>\n",
       "      <td>Comprehensive - Taxi</td>\n",
       "      <td>Motor Comprehensive</td>\n",
       "      <td>Mobility Commercial Cover: Monthly</td>\n",
       "      <td>Commercial</td>\n",
       "      <td>IFRS Constant</td>\n",
       "      <td>347.235175</td>\n",
       "      <td>0.0</td>\n",
       "    </tr>\n",
       "    <tr>\n",
       "      <th>1000096</th>\n",
       "      <td>31519</td>\n",
       "      <td>389</td>\n",
       "      <td>2014-07-01 00:00:00</td>\n",
       "      <td>False</td>\n",
       "      <td>ZW</td>\n",
       "      <td>Individual</td>\n",
       "      <td>Mr</td>\n",
       "      <td>English</td>\n",
       "      <td>ABSA Bank</td>\n",
       "      <td>Savings account</td>\n",
       "      <td>...</td>\n",
       "      <td>No excess</td>\n",
       "      <td>Passenger Liability</td>\n",
       "      <td>Passenger Liability</td>\n",
       "      <td>Comprehensive - Taxi</td>\n",
       "      <td>Motor Comprehensive</td>\n",
       "      <td>Mobility Commercial Cover: Monthly</td>\n",
       "      <td>Commercial</td>\n",
       "      <td>IFRS Constant</td>\n",
       "      <td>2.315000</td>\n",
       "      <td>0.0</td>\n",
       "    </tr>\n",
       "    <tr>\n",
       "      <th>1000097</th>\n",
       "      <td>31519</td>\n",
       "      <td>389</td>\n",
       "      <td>2015-02-01 00:00:00</td>\n",
       "      <td>False</td>\n",
       "      <td>ZW</td>\n",
       "      <td>Individual</td>\n",
       "      <td>Mr</td>\n",
       "      <td>English</td>\n",
       "      <td>ABSA Bank</td>\n",
       "      <td>Savings account</td>\n",
       "      <td>...</td>\n",
       "      <td>No excess</td>\n",
       "      <td>Passenger Liability</td>\n",
       "      <td>Passenger Liability</td>\n",
       "      <td>Comprehensive - Taxi</td>\n",
       "      <td>Motor Comprehensive</td>\n",
       "      <td>Mobility Commercial Cover: Monthly</td>\n",
       "      <td>Commercial</td>\n",
       "      <td>IFRS Constant</td>\n",
       "      <td>2.315000</td>\n",
       "      <td>0.0</td>\n",
       "    </tr>\n",
       "  </tbody>\n",
       "</table>\n",
       "<p>5 rows × 52 columns</p>\n",
       "</div>"
      ],
      "text/plain": [
       "         UnderwrittenCoverID  PolicyID     TransactionMonth  IsVATRegistered  \\\n",
       "1000093                31520       389  2015-04-01 00:00:00            False   \n",
       "1000094                31520       389  2015-06-01 00:00:00            False   \n",
       "1000095                31520       389  2015-08-01 00:00:00            False   \n",
       "1000096                31519       389  2014-07-01 00:00:00            False   \n",
       "1000097                31519       389  2015-02-01 00:00:00            False   \n",
       "\n",
       "        Citizenship   LegalType Title Language       Bank      AccountType  \\\n",
       "1000093          ZW  Individual    Mr  English  ABSA Bank  Savings account   \n",
       "1000094          ZW  Individual    Mr  English  ABSA Bank  Savings account   \n",
       "1000095          ZW  Individual    Mr  English  ABSA Bank  Savings account   \n",
       "1000096          ZW  Individual    Mr  English  ABSA Bank  Savings account   \n",
       "1000097          ZW  Individual    Mr  English  ABSA Bank  Savings account   \n",
       "\n",
       "         ... ExcessSelected        CoverCategory            CoverType  \\\n",
       "1000093  ...      No excess          Third Party          Third Party   \n",
       "1000094  ...      No excess          Third Party          Third Party   \n",
       "1000095  ...      No excess          Third Party          Third Party   \n",
       "1000096  ...      No excess  Passenger Liability  Passenger Liability   \n",
       "1000097  ...      No excess  Passenger Liability  Passenger Liability   \n",
       "\n",
       "                   CoverGroup              Section  \\\n",
       "1000093  Comprehensive - Taxi  Motor Comprehensive   \n",
       "1000094  Comprehensive - Taxi  Motor Comprehensive   \n",
       "1000095  Comprehensive - Taxi  Motor Comprehensive   \n",
       "1000096  Comprehensive - Taxi  Motor Comprehensive   \n",
       "1000097  Comprehensive - Taxi  Motor Comprehensive   \n",
       "\n",
       "                                    Product StatutoryClass StatutoryRiskType  \\\n",
       "1000093  Mobility Commercial Cover: Monthly     Commercial     IFRS Constant   \n",
       "1000094  Mobility Commercial Cover: Monthly     Commercial     IFRS Constant   \n",
       "1000095  Mobility Commercial Cover: Monthly     Commercial     IFRS Constant   \n",
       "1000096  Mobility Commercial Cover: Monthly     Commercial     IFRS Constant   \n",
       "1000097  Mobility Commercial Cover: Monthly     Commercial     IFRS Constant   \n",
       "\n",
       "         TotalPremium TotalClaims  \n",
       "1000093    347.235175         0.0  \n",
       "1000094    347.235175         0.0  \n",
       "1000095    347.235175         0.0  \n",
       "1000096      2.315000         0.0  \n",
       "1000097      2.315000         0.0  \n",
       "\n",
       "[5 rows x 52 columns]"
      ]
     },
     "execution_count": 5,
     "metadata": {},
     "output_type": "execute_result"
    }
   ],
   "source": [
    "df.tail()"
   ]
  },
  {
   "cell_type": "code",
   "execution_count": 6,
   "metadata": {},
   "outputs": [
    {
     "data": {
      "text/plain": [
       "52005096"
      ]
     },
     "execution_count": 6,
     "metadata": {},
     "output_type": "execute_result"
    }
   ],
   "source": [
    "df.size"
   ]
  },
  {
   "cell_type": "code",
   "execution_count": 7,
   "metadata": {},
   "outputs": [
    {
     "data": {
      "text/plain": [
       "(1000098, 52)"
      ]
     },
     "execution_count": 7,
     "metadata": {},
     "output_type": "execute_result"
    }
   ],
   "source": [
    "df.shape"
   ]
  },
  {
   "cell_type": "code",
   "execution_count": 8,
   "metadata": {},
   "outputs": [
    {
     "data": {
      "text/plain": [
       "UnderwrittenCoverID           int64\n",
       "PolicyID                      int64\n",
       "TransactionMonth             object\n",
       "IsVATRegistered                bool\n",
       "Citizenship                  object\n",
       "LegalType                    object\n",
       "Title                        object\n",
       "Language                     object\n",
       "Bank                         object\n",
       "AccountType                  object\n",
       "MaritalStatus                object\n",
       "Gender                       object\n",
       "Country                      object\n",
       "Province                     object\n",
       "PostalCode                    int64\n",
       "MainCrestaZone               object\n",
       "SubCrestaZone                object\n",
       "ItemType                     object\n",
       "mmcode                      float64\n",
       "VehicleType                  object\n",
       "RegistrationYear              int64\n",
       "make                         object\n",
       "Model                        object\n",
       "Cylinders                   float64\n",
       "cubiccapacity               float64\n",
       "kilowatts                   float64\n",
       "bodytype                     object\n",
       "NumberOfDoors               float64\n",
       "VehicleIntroDate             object\n",
       "CustomValueEstimate         float64\n",
       "AlarmImmobiliser             object\n",
       "TrackingDevice               object\n",
       "CapitalOutstanding           object\n",
       "NewVehicle                   object\n",
       "WrittenOff                   object\n",
       "Rebuilt                      object\n",
       "Converted                    object\n",
       "CrossBorder                  object\n",
       "NumberOfVehiclesInFleet     float64\n",
       "SumInsured                  float64\n",
       "TermFrequency                object\n",
       "CalculatedPremiumPerTerm    float64\n",
       "ExcessSelected               object\n",
       "CoverCategory                object\n",
       "CoverType                    object\n",
       "CoverGroup                   object\n",
       "Section                      object\n",
       "Product                      object\n",
       "StatutoryClass               object\n",
       "StatutoryRiskType            object\n",
       "TotalPremium                float64\n",
       "TotalClaims                 float64\n",
       "dtype: object"
      ]
     },
     "execution_count": 8,
     "metadata": {},
     "output_type": "execute_result"
    }
   ],
   "source": [
    "df.dtypes"
   ]
  },
  {
   "cell_type": "markdown",
   "metadata": {},
   "source": [
    "**Summary**"
   ]
  },
  {
   "cell_type": "code",
   "execution_count": 9,
   "metadata": {},
   "outputs": [
    {
     "name": "stdout",
     "output_type": "stream",
     "text": [
      "<class 'pandas.core.frame.DataFrame'>\n",
      "RangeIndex: 1000098 entries, 0 to 1000097\n",
      "Data columns (total 52 columns):\n",
      " #   Column                    Non-Null Count    Dtype  \n",
      "---  ------                    --------------    -----  \n",
      " 0   UnderwrittenCoverID       1000098 non-null  int64  \n",
      " 1   PolicyID                  1000098 non-null  int64  \n",
      " 2   TransactionMonth          1000098 non-null  object \n",
      " 3   IsVATRegistered           1000098 non-null  bool   \n",
      " 4   Citizenship               1000098 non-null  object \n",
      " 5   LegalType                 1000098 non-null  object \n",
      " 6   Title                     1000098 non-null  object \n",
      " 7   Language                  1000098 non-null  object \n",
      " 8   Bank                      854137 non-null   object \n",
      " 9   AccountType               959866 non-null   object \n",
      " 10  MaritalStatus             991839 non-null   object \n",
      " 11  Gender                    990562 non-null   object \n",
      " 12  Country                   1000098 non-null  object \n",
      " 13  Province                  1000098 non-null  object \n",
      " 14  PostalCode                1000098 non-null  int64  \n",
      " 15  MainCrestaZone            1000098 non-null  object \n",
      " 16  SubCrestaZone             1000098 non-null  object \n",
      " 17  ItemType                  1000098 non-null  object \n",
      " 18  mmcode                    999546 non-null   float64\n",
      " 19  VehicleType               999546 non-null   object \n",
      " 20  RegistrationYear          1000098 non-null  int64  \n",
      " 21  make                      999546 non-null   object \n",
      " 22  Model                     999546 non-null   object \n",
      " 23  Cylinders                 999546 non-null   float64\n",
      " 24  cubiccapacity             999546 non-null   float64\n",
      " 25  kilowatts                 999546 non-null   float64\n",
      " 26  bodytype                  999546 non-null   object \n",
      " 27  NumberOfDoors             999546 non-null   float64\n",
      " 28  VehicleIntroDate          999546 non-null   object \n",
      " 29  CustomValueEstimate       220456 non-null   float64\n",
      " 30  AlarmImmobiliser          1000098 non-null  object \n",
      " 31  TrackingDevice            1000098 non-null  object \n",
      " 32  CapitalOutstanding        1000096 non-null  object \n",
      " 33  NewVehicle                846803 non-null   object \n",
      " 34  WrittenOff                358197 non-null   object \n",
      " 35  Rebuilt                   358197 non-null   object \n",
      " 36  Converted                 358197 non-null   object \n",
      " 37  CrossBorder               698 non-null      object \n",
      " 38  NumberOfVehiclesInFleet   0 non-null        float64\n",
      " 39  SumInsured                1000098 non-null  float64\n",
      " 40  TermFrequency             1000098 non-null  object \n",
      " 41  CalculatedPremiumPerTerm  1000098 non-null  float64\n",
      " 42  ExcessSelected            1000098 non-null  object \n",
      " 43  CoverCategory             1000098 non-null  object \n",
      " 44  CoverType                 1000098 non-null  object \n",
      " 45  CoverGroup                1000098 non-null  object \n",
      " 46  Section                   1000098 non-null  object \n",
      " 47  Product                   1000098 non-null  object \n",
      " 48  StatutoryClass            1000098 non-null  object \n",
      " 49  StatutoryRiskType         1000098 non-null  object \n",
      " 50  TotalPremium              1000098 non-null  float64\n",
      " 51  TotalClaims               1000098 non-null  float64\n",
      "dtypes: bool(1), float64(11), int64(4), object(36)\n",
      "memory usage: 390.1+ MB\n"
     ]
    }
   ],
   "source": [
    "df.info()"
   ]
  },
  {
   "cell_type": "markdown",
   "metadata": {},
   "source": [
    "**Statistical Info**"
   ]
  },
  {
   "cell_type": "code",
   "execution_count": 10,
   "metadata": {},
   "outputs": [
    {
     "data": {
      "text/html": [
       "<div>\n",
       "<style scoped>\n",
       "    .dataframe tbody tr th:only-of-type {\n",
       "        vertical-align: middle;\n",
       "    }\n",
       "\n",
       "    .dataframe tbody tr th {\n",
       "        vertical-align: top;\n",
       "    }\n",
       "\n",
       "    .dataframe thead th {\n",
       "        text-align: right;\n",
       "    }\n",
       "</style>\n",
       "<table border=\"1\" class=\"dataframe\">\n",
       "  <thead>\n",
       "    <tr style=\"text-align: right;\">\n",
       "      <th></th>\n",
       "      <th>UnderwrittenCoverID</th>\n",
       "      <th>PolicyID</th>\n",
       "      <th>PostalCode</th>\n",
       "      <th>mmcode</th>\n",
       "      <th>RegistrationYear</th>\n",
       "      <th>Cylinders</th>\n",
       "      <th>cubiccapacity</th>\n",
       "      <th>kilowatts</th>\n",
       "      <th>NumberOfDoors</th>\n",
       "      <th>CustomValueEstimate</th>\n",
       "      <th>NumberOfVehiclesInFleet</th>\n",
       "      <th>SumInsured</th>\n",
       "      <th>CalculatedPremiumPerTerm</th>\n",
       "      <th>TotalPremium</th>\n",
       "      <th>TotalClaims</th>\n",
       "    </tr>\n",
       "  </thead>\n",
       "  <tbody>\n",
       "    <tr>\n",
       "      <th>count</th>\n",
       "      <td>1.000098e+06</td>\n",
       "      <td>1.000098e+06</td>\n",
       "      <td>1.000098e+06</td>\n",
       "      <td>9.995460e+05</td>\n",
       "      <td>1.000098e+06</td>\n",
       "      <td>999546.000000</td>\n",
       "      <td>999546.000000</td>\n",
       "      <td>999546.000000</td>\n",
       "      <td>999546.000000</td>\n",
       "      <td>2.204560e+05</td>\n",
       "      <td>0.0</td>\n",
       "      <td>1.000098e+06</td>\n",
       "      <td>1.000098e+06</td>\n",
       "      <td>1.000098e+06</td>\n",
       "      <td>1.000098e+06</td>\n",
       "    </tr>\n",
       "    <tr>\n",
       "      <th>mean</th>\n",
       "      <td>1.048175e+05</td>\n",
       "      <td>7.956682e+03</td>\n",
       "      <td>3.020601e+03</td>\n",
       "      <td>5.487770e+07</td>\n",
       "      <td>2.010225e+03</td>\n",
       "      <td>4.046642</td>\n",
       "      <td>2466.743258</td>\n",
       "      <td>97.207919</td>\n",
       "      <td>4.019250</td>\n",
       "      <td>2.255311e+05</td>\n",
       "      <td>NaN</td>\n",
       "      <td>6.041727e+05</td>\n",
       "      <td>1.178757e+02</td>\n",
       "      <td>6.190550e+01</td>\n",
       "      <td>6.486119e+01</td>\n",
       "    </tr>\n",
       "    <tr>\n",
       "      <th>std</th>\n",
       "      <td>6.329371e+04</td>\n",
       "      <td>5.290039e+03</td>\n",
       "      <td>2.649854e+03</td>\n",
       "      <td>1.360381e+07</td>\n",
       "      <td>3.261391e+00</td>\n",
       "      <td>0.294020</td>\n",
       "      <td>442.800640</td>\n",
       "      <td>19.393256</td>\n",
       "      <td>0.468314</td>\n",
       "      <td>5.645157e+05</td>\n",
       "      <td>NaN</td>\n",
       "      <td>1.508332e+06</td>\n",
       "      <td>3.997017e+02</td>\n",
       "      <td>2.302845e+02</td>\n",
       "      <td>2.384075e+03</td>\n",
       "    </tr>\n",
       "    <tr>\n",
       "      <th>min</th>\n",
       "      <td>1.000000e+00</td>\n",
       "      <td>1.400000e+01</td>\n",
       "      <td>1.000000e+00</td>\n",
       "      <td>4.041200e+06</td>\n",
       "      <td>1.987000e+03</td>\n",
       "      <td>0.000000</td>\n",
       "      <td>0.000000</td>\n",
       "      <td>0.000000</td>\n",
       "      <td>0.000000</td>\n",
       "      <td>2.000000e+04</td>\n",
       "      <td>NaN</td>\n",
       "      <td>1.000000e-02</td>\n",
       "      <td>0.000000e+00</td>\n",
       "      <td>-7.825768e+02</td>\n",
       "      <td>-1.200241e+04</td>\n",
       "    </tr>\n",
       "    <tr>\n",
       "      <th>25%</th>\n",
       "      <td>5.514300e+04</td>\n",
       "      <td>4.500000e+03</td>\n",
       "      <td>8.270000e+02</td>\n",
       "      <td>6.005692e+07</td>\n",
       "      <td>2.008000e+03</td>\n",
       "      <td>4.000000</td>\n",
       "      <td>2237.000000</td>\n",
       "      <td>75.000000</td>\n",
       "      <td>4.000000</td>\n",
       "      <td>1.350000e+05</td>\n",
       "      <td>NaN</td>\n",
       "      <td>5.000000e+03</td>\n",
       "      <td>3.224800e+00</td>\n",
       "      <td>0.000000e+00</td>\n",
       "      <td>0.000000e+00</td>\n",
       "    </tr>\n",
       "    <tr>\n",
       "      <th>50%</th>\n",
       "      <td>9.408300e+04</td>\n",
       "      <td>7.071000e+03</td>\n",
       "      <td>2.000000e+03</td>\n",
       "      <td>6.005842e+07</td>\n",
       "      <td>2.011000e+03</td>\n",
       "      <td>4.000000</td>\n",
       "      <td>2694.000000</td>\n",
       "      <td>111.000000</td>\n",
       "      <td>4.000000</td>\n",
       "      <td>2.200000e+05</td>\n",
       "      <td>NaN</td>\n",
       "      <td>7.500000e+03</td>\n",
       "      <td>8.436900e+00</td>\n",
       "      <td>2.178333e+00</td>\n",
       "      <td>0.000000e+00</td>\n",
       "    </tr>\n",
       "    <tr>\n",
       "      <th>75%</th>\n",
       "      <td>1.391900e+05</td>\n",
       "      <td>1.107700e+04</td>\n",
       "      <td>4.180000e+03</td>\n",
       "      <td>6.005842e+07</td>\n",
       "      <td>2.013000e+03</td>\n",
       "      <td>4.000000</td>\n",
       "      <td>2694.000000</td>\n",
       "      <td>111.000000</td>\n",
       "      <td>4.000000</td>\n",
       "      <td>2.800000e+05</td>\n",
       "      <td>NaN</td>\n",
       "      <td>2.500000e+05</td>\n",
       "      <td>9.000000e+01</td>\n",
       "      <td>2.192982e+01</td>\n",
       "      <td>0.000000e+00</td>\n",
       "    </tr>\n",
       "    <tr>\n",
       "      <th>max</th>\n",
       "      <td>3.011750e+05</td>\n",
       "      <td>2.324600e+04</td>\n",
       "      <td>9.870000e+03</td>\n",
       "      <td>6.506535e+07</td>\n",
       "      <td>2.015000e+03</td>\n",
       "      <td>10.000000</td>\n",
       "      <td>12880.000000</td>\n",
       "      <td>309.000000</td>\n",
       "      <td>6.000000</td>\n",
       "      <td>2.655000e+07</td>\n",
       "      <td>NaN</td>\n",
       "      <td>1.263620e+07</td>\n",
       "      <td>7.442217e+04</td>\n",
       "      <td>6.528260e+04</td>\n",
       "      <td>3.930921e+05</td>\n",
       "    </tr>\n",
       "  </tbody>\n",
       "</table>\n",
       "</div>"
      ],
      "text/plain": [
       "       UnderwrittenCoverID      PolicyID    PostalCode        mmcode  \\\n",
       "count         1.000098e+06  1.000098e+06  1.000098e+06  9.995460e+05   \n",
       "mean          1.048175e+05  7.956682e+03  3.020601e+03  5.487770e+07   \n",
       "std           6.329371e+04  5.290039e+03  2.649854e+03  1.360381e+07   \n",
       "min           1.000000e+00  1.400000e+01  1.000000e+00  4.041200e+06   \n",
       "25%           5.514300e+04  4.500000e+03  8.270000e+02  6.005692e+07   \n",
       "50%           9.408300e+04  7.071000e+03  2.000000e+03  6.005842e+07   \n",
       "75%           1.391900e+05  1.107700e+04  4.180000e+03  6.005842e+07   \n",
       "max           3.011750e+05  2.324600e+04  9.870000e+03  6.506535e+07   \n",
       "\n",
       "       RegistrationYear      Cylinders  cubiccapacity      kilowatts  \\\n",
       "count      1.000098e+06  999546.000000  999546.000000  999546.000000   \n",
       "mean       2.010225e+03       4.046642    2466.743258      97.207919   \n",
       "std        3.261391e+00       0.294020     442.800640      19.393256   \n",
       "min        1.987000e+03       0.000000       0.000000       0.000000   \n",
       "25%        2.008000e+03       4.000000    2237.000000      75.000000   \n",
       "50%        2.011000e+03       4.000000    2694.000000     111.000000   \n",
       "75%        2.013000e+03       4.000000    2694.000000     111.000000   \n",
       "max        2.015000e+03      10.000000   12880.000000     309.000000   \n",
       "\n",
       "       NumberOfDoors  CustomValueEstimate  NumberOfVehiclesInFleet  \\\n",
       "count  999546.000000         2.204560e+05                      0.0   \n",
       "mean        4.019250         2.255311e+05                      NaN   \n",
       "std         0.468314         5.645157e+05                      NaN   \n",
       "min         0.000000         2.000000e+04                      NaN   \n",
       "25%         4.000000         1.350000e+05                      NaN   \n",
       "50%         4.000000         2.200000e+05                      NaN   \n",
       "75%         4.000000         2.800000e+05                      NaN   \n",
       "max         6.000000         2.655000e+07                      NaN   \n",
       "\n",
       "         SumInsured  CalculatedPremiumPerTerm  TotalPremium   TotalClaims  \n",
       "count  1.000098e+06              1.000098e+06  1.000098e+06  1.000098e+06  \n",
       "mean   6.041727e+05              1.178757e+02  6.190550e+01  6.486119e+01  \n",
       "std    1.508332e+06              3.997017e+02  2.302845e+02  2.384075e+03  \n",
       "min    1.000000e-02              0.000000e+00 -7.825768e+02 -1.200241e+04  \n",
       "25%    5.000000e+03              3.224800e+00  0.000000e+00  0.000000e+00  \n",
       "50%    7.500000e+03              8.436900e+00  2.178333e+00  0.000000e+00  \n",
       "75%    2.500000e+05              9.000000e+01  2.192982e+01  0.000000e+00  \n",
       "max    1.263620e+07              7.442217e+04  6.528260e+04  3.930921e+05  "
      ]
     },
     "execution_count": 10,
     "metadata": {},
     "output_type": "execute_result"
    }
   ],
   "source": [
    "df.describe()"
   ]
  },
  {
   "cell_type": "code",
   "execution_count": 11,
   "metadata": {},
   "outputs": [
    {
     "data": {
      "text/plain": [
       "NumberOfVehiclesInFleet          0\n",
       "Language                         1\n",
       "ItemType                         1\n",
       "Country                          1\n",
       "StatutoryClass                   1\n",
       "StatutoryRiskType                1\n",
       "CrossBorder                      1\n",
       "IsVATRegistered                  2\n",
       "WrittenOff                       2\n",
       "NewVehicle                       2\n",
       "Rebuilt                          2\n",
       "Converted                        2\n",
       "AlarmImmobiliser                 2\n",
       "TrackingDevice                   2\n",
       "TermFrequency                    2\n",
       "MaritalStatus                    3\n",
       "Gender                           3\n",
       "AccountType                      3\n",
       "Product                          4\n",
       "Citizenship                      4\n",
       "VehicleType                      5\n",
       "Section                          5\n",
       "Title                            5\n",
       "LegalType                        6\n",
       "NumberOfDoors                    6\n",
       "Cylinders                        7\n",
       "Province                         9\n",
       "Bank                            11\n",
       "ExcessSelected                  13\n",
       "bodytype                        13\n",
       "CoverGroup                      14\n",
       "MainCrestaZone                  16\n",
       "CoverType                       22\n",
       "TransactionMonth                23\n",
       "RegistrationYear                25\n",
       "CoverCategory                   28\n",
       "SubCrestaZone                   45\n",
       "make                            46\n",
       "kilowatts                       82\n",
       "cubiccapacity                  122\n",
       "VehicleIntroDate               174\n",
       "Model                          411\n",
       "mmcode                         427\n",
       "PostalCode                     888\n",
       "CustomValueEstimate            923\n",
       "CapitalOutstanding            1011\n",
       "TotalClaims                   1615\n",
       "SumInsured                    2186\n",
       "PolicyID                      7000\n",
       "CalculatedPremiumPerTerm     19869\n",
       "TotalPremium                 38959\n",
       "UnderwrittenCoverID         116532\n",
       "dtype: int64"
      ]
     },
     "execution_count": 11,
     "metadata": {},
     "output_type": "execute_result"
    }
   ],
   "source": [
    "#Checking number of unique rows in each feature\n",
    "\n",
    "df.nunique().sort_values()"
   ]
  },
  {
   "cell_type": "markdown",
   "metadata": {},
   "source": [
    "**Missing Value**"
   ]
  },
  {
   "cell_type": "code",
   "execution_count": 24,
   "metadata": {},
   "outputs": [
    {
     "data": {
      "text/plain": [
       "UnderwrittenCoverID               0\n",
       "PolicyID                          0\n",
       "TransactionMonth                  0\n",
       "IsVATRegistered                   0\n",
       "Citizenship                       0\n",
       "LegalType                         0\n",
       "Title                             0\n",
       "Language                          0\n",
       "Bank                         145961\n",
       "AccountType                   40232\n",
       "MaritalStatus                  8259\n",
       "Gender                         9536\n",
       "Country                           0\n",
       "Province                          0\n",
       "PostalCode                        0\n",
       "MainCrestaZone                    0\n",
       "SubCrestaZone                     0\n",
       "ItemType                          0\n",
       "mmcode                          552\n",
       "VehicleType                     552\n",
       "RegistrationYear                  0\n",
       "make                            552\n",
       "Model                           552\n",
       "Cylinders                       552\n",
       "cubiccapacity                   552\n",
       "kilowatts                       552\n",
       "bodytype                        552\n",
       "NumberOfDoors                   552\n",
       "VehicleIntroDate                552\n",
       "CustomValueEstimate          779642\n",
       "AlarmImmobiliser                  0\n",
       "TrackingDevice                    0\n",
       "CapitalOutstanding                2\n",
       "NewVehicle                   153295\n",
       "WrittenOff                   641901\n",
       "Rebuilt                      641901\n",
       "Converted                    641901\n",
       "CrossBorder                  999400\n",
       "NumberOfVehiclesInFleet     1000098\n",
       "SumInsured                        0\n",
       "TermFrequency                     0\n",
       "CalculatedPremiumPerTerm          0\n",
       "ExcessSelected                    0\n",
       "CoverCategory                     0\n",
       "CoverType                         0\n",
       "CoverGroup                        0\n",
       "Section                           0\n",
       "Product                           0\n",
       "StatutoryClass                    0\n",
       "StatutoryRiskType                 0\n",
       "TotalPremium                      0\n",
       "TotalClaims                       0\n",
       "dtype: int64"
      ]
     },
     "execution_count": 24,
     "metadata": {},
     "output_type": "execute_result"
    }
   ],
   "source": [
    "df.isna().sum()"
   ]
  },
  {
   "cell_type": "code",
   "execution_count": 12,
   "metadata": {},
   "outputs": [
    {
     "name": "stdout",
     "output_type": "stream",
     "text": [
      "The dataset contains 9.74 % missing values.\n"
     ]
    }
   ],
   "source": [
    "percent_missing_values(df)"
   ]
  },
  {
   "cell_type": "code",
   "execution_count": 13,
   "metadata": {},
   "outputs": [
    {
     "name": "stdout",
     "output_type": "stream",
     "text": [
      "Your selected dataframe has 52 columns.\n",
      "There are 22 columns that have missing values.\n"
     ]
    }
   ],
   "source": [
    "missing_df = missing_values_table(df)"
   ]
  },
  {
   "cell_type": "code",
   "execution_count": 14,
   "metadata": {},
   "outputs": [
    {
     "data": {
      "text/html": [
       "<div>\n",
       "<style scoped>\n",
       "    .dataframe tbody tr th:only-of-type {\n",
       "        vertical-align: middle;\n",
       "    }\n",
       "\n",
       "    .dataframe tbody tr th {\n",
       "        vertical-align: top;\n",
       "    }\n",
       "\n",
       "    .dataframe thead th {\n",
       "        text-align: right;\n",
       "    }\n",
       "</style>\n",
       "<table border=\"1\" class=\"dataframe\">\n",
       "  <thead>\n",
       "    <tr style=\"text-align: right;\">\n",
       "      <th></th>\n",
       "      <th>Missing Values</th>\n",
       "      <th>% of Total Values</th>\n",
       "      <th>Dtype</th>\n",
       "    </tr>\n",
       "  </thead>\n",
       "  <tbody>\n",
       "    <tr>\n",
       "      <th>NumberOfVehiclesInFleet</th>\n",
       "      <td>1000098</td>\n",
       "      <td>100.00</td>\n",
       "      <td>float64</td>\n",
       "    </tr>\n",
       "    <tr>\n",
       "      <th>CrossBorder</th>\n",
       "      <td>999400</td>\n",
       "      <td>99.93</td>\n",
       "      <td>object</td>\n",
       "    </tr>\n",
       "    <tr>\n",
       "      <th>CustomValueEstimate</th>\n",
       "      <td>779642</td>\n",
       "      <td>77.96</td>\n",
       "      <td>float64</td>\n",
       "    </tr>\n",
       "    <tr>\n",
       "      <th>WrittenOff</th>\n",
       "      <td>641901</td>\n",
       "      <td>64.18</td>\n",
       "      <td>object</td>\n",
       "    </tr>\n",
       "    <tr>\n",
       "      <th>Converted</th>\n",
       "      <td>641901</td>\n",
       "      <td>64.18</td>\n",
       "      <td>object</td>\n",
       "    </tr>\n",
       "    <tr>\n",
       "      <th>Rebuilt</th>\n",
       "      <td>641901</td>\n",
       "      <td>64.18</td>\n",
       "      <td>object</td>\n",
       "    </tr>\n",
       "    <tr>\n",
       "      <th>NewVehicle</th>\n",
       "      <td>153295</td>\n",
       "      <td>15.33</td>\n",
       "      <td>object</td>\n",
       "    </tr>\n",
       "    <tr>\n",
       "      <th>Bank</th>\n",
       "      <td>145961</td>\n",
       "      <td>14.59</td>\n",
       "      <td>object</td>\n",
       "    </tr>\n",
       "    <tr>\n",
       "      <th>AccountType</th>\n",
       "      <td>40232</td>\n",
       "      <td>4.02</td>\n",
       "      <td>object</td>\n",
       "    </tr>\n",
       "    <tr>\n",
       "      <th>Gender</th>\n",
       "      <td>9536</td>\n",
       "      <td>0.95</td>\n",
       "      <td>object</td>\n",
       "    </tr>\n",
       "    <tr>\n",
       "      <th>MaritalStatus</th>\n",
       "      <td>8259</td>\n",
       "      <td>0.83</td>\n",
       "      <td>object</td>\n",
       "    </tr>\n",
       "    <tr>\n",
       "      <th>mmcode</th>\n",
       "      <td>552</td>\n",
       "      <td>0.06</td>\n",
       "      <td>float64</td>\n",
       "    </tr>\n",
       "    <tr>\n",
       "      <th>VehicleType</th>\n",
       "      <td>552</td>\n",
       "      <td>0.06</td>\n",
       "      <td>object</td>\n",
       "    </tr>\n",
       "    <tr>\n",
       "      <th>make</th>\n",
       "      <td>552</td>\n",
       "      <td>0.06</td>\n",
       "      <td>object</td>\n",
       "    </tr>\n",
       "    <tr>\n",
       "      <th>VehicleIntroDate</th>\n",
       "      <td>552</td>\n",
       "      <td>0.06</td>\n",
       "      <td>object</td>\n",
       "    </tr>\n",
       "    <tr>\n",
       "      <th>NumberOfDoors</th>\n",
       "      <td>552</td>\n",
       "      <td>0.06</td>\n",
       "      <td>float64</td>\n",
       "    </tr>\n",
       "    <tr>\n",
       "      <th>bodytype</th>\n",
       "      <td>552</td>\n",
       "      <td>0.06</td>\n",
       "      <td>object</td>\n",
       "    </tr>\n",
       "    <tr>\n",
       "      <th>kilowatts</th>\n",
       "      <td>552</td>\n",
       "      <td>0.06</td>\n",
       "      <td>float64</td>\n",
       "    </tr>\n",
       "    <tr>\n",
       "      <th>cubiccapacity</th>\n",
       "      <td>552</td>\n",
       "      <td>0.06</td>\n",
       "      <td>float64</td>\n",
       "    </tr>\n",
       "    <tr>\n",
       "      <th>Cylinders</th>\n",
       "      <td>552</td>\n",
       "      <td>0.06</td>\n",
       "      <td>float64</td>\n",
       "    </tr>\n",
       "    <tr>\n",
       "      <th>Model</th>\n",
       "      <td>552</td>\n",
       "      <td>0.06</td>\n",
       "      <td>object</td>\n",
       "    </tr>\n",
       "    <tr>\n",
       "      <th>CapitalOutstanding</th>\n",
       "      <td>2</td>\n",
       "      <td>0.00</td>\n",
       "      <td>object</td>\n",
       "    </tr>\n",
       "  </tbody>\n",
       "</table>\n",
       "</div>"
      ],
      "text/plain": [
       "                         Missing Values  % of Total Values    Dtype\n",
       "NumberOfVehiclesInFleet         1000098             100.00  float64\n",
       "CrossBorder                      999400              99.93   object\n",
       "CustomValueEstimate              779642              77.96  float64\n",
       "WrittenOff                       641901              64.18   object\n",
       "Converted                        641901              64.18   object\n",
       "Rebuilt                          641901              64.18   object\n",
       "NewVehicle                       153295              15.33   object\n",
       "Bank                             145961              14.59   object\n",
       "AccountType                       40232               4.02   object\n",
       "Gender                             9536               0.95   object\n",
       "MaritalStatus                      8259               0.83   object\n",
       "mmcode                              552               0.06  float64\n",
       "VehicleType                         552               0.06   object\n",
       "make                                552               0.06   object\n",
       "VehicleIntroDate                    552               0.06   object\n",
       "NumberOfDoors                       552               0.06  float64\n",
       "bodytype                            552               0.06   object\n",
       "kilowatts                           552               0.06  float64\n",
       "cubiccapacity                       552               0.06  float64\n",
       "Cylinders                           552               0.06  float64\n",
       "Model                               552               0.06   object\n",
       "CapitalOutstanding                    2               0.00   object"
      ]
     },
     "execution_count": 14,
     "metadata": {},
     "output_type": "execute_result"
    }
   ],
   "source": [
    "missing_df"
   ]
  },
  {
   "cell_type": "markdown",
   "metadata": {},
   "source": [
    "As a convention, it is good to remove columns with more than 30% of missing values."
   ]
  },
  {
   "cell_type": "code",
   "execution_count": 18,
   "metadata": {},
   "outputs": [
    {
     "data": {
      "text/plain": [
       "['NumberOfVehiclesInFleet',\n",
       " 'CrossBorder',\n",
       " 'CustomValueEstimate',\n",
       " 'WrittenOff',\n",
       " 'Converted',\n",
       " 'Rebuilt']"
      ]
     },
     "execution_count": 18,
     "metadata": {},
     "output_type": "execute_result"
    }
   ],
   "source": [
    "columns_to_be_removed = missing_df[missing_df['% of Total Values'] >= 30.00].index.tolist()\n",
    "columns_to_be_removed"
   ]
  },
  {
   "cell_type": "markdown",
   "metadata": {},
   "source": [
    "I'm going to retain columns like CrossBorder, CustomValueEstimate, WrittenOff, and Rebuilt because they could provide insights into risk profiles. However, NumberOfVehiclesInFleet and Converted might not directly influence risk for individual claims and could be excluded."
   ]
  },
  {
   "cell_type": "code",
   "execution_count": 19,
   "metadata": {},
   "outputs": [
    {
     "data": {
      "text/plain": [
       "['NumberOfVehiclesInFleet', 'Converted']"
      ]
     },
     "execution_count": 19,
     "metadata": {},
     "output_type": "execute_result"
    }
   ],
   "source": [
    "columns_to_be_removed = [col for col in columns_to_be_removed if col not in ['CrossBorder',\n",
    "    'WrittenOff', 'CustomValueEstimate', 'Rebuilt']]\n",
    "columns_to_be_removed"
   ]
  },
  {
   "cell_type": "code",
   "execution_count": 20,
   "metadata": {},
   "outputs": [
    {
     "data": {
      "text/plain": [
       "(1000098, 50)"
      ]
     },
     "execution_count": 20,
     "metadata": {},
     "output_type": "execute_result"
    }
   ],
   "source": [
    "cleaned_df = df.drop(columns_to_be_removed, axis=1)\n",
    "cleaned_df.shape"
   ]
  },
  {
   "cell_type": "markdown",
   "metadata": {},
   "source": [
    "Now let's check the status of missing values in the modified dataframe."
   ]
  },
  {
   "cell_type": "code",
   "execution_count": 21,
   "metadata": {},
   "outputs": [
    {
     "name": "stdout",
     "output_type": "stream",
     "text": [
      "The dataset contains 6.85 % missing values.\n"
     ]
    }
   ],
   "source": [
    "percent_missing_values(cleaned_df)"
   ]
  },
  {
   "cell_type": "code",
   "execution_count": 23,
   "metadata": {},
   "outputs": [
    {
     "name": "stdout",
     "output_type": "stream",
     "text": [
      "Your selected dataframe has 50 columns.\n",
      "There are 20 columns that have missing values.\n"
     ]
    },
    {
     "data": {
      "text/html": [
       "<div>\n",
       "<style scoped>\n",
       "    .dataframe tbody tr th:only-of-type {\n",
       "        vertical-align: middle;\n",
       "    }\n",
       "\n",
       "    .dataframe tbody tr th {\n",
       "        vertical-align: top;\n",
       "    }\n",
       "\n",
       "    .dataframe thead th {\n",
       "        text-align: right;\n",
       "    }\n",
       "</style>\n",
       "<table border=\"1\" class=\"dataframe\">\n",
       "  <thead>\n",
       "    <tr style=\"text-align: right;\">\n",
       "      <th></th>\n",
       "      <th>Missing Values</th>\n",
       "      <th>% of Total Values</th>\n",
       "      <th>Dtype</th>\n",
       "    </tr>\n",
       "  </thead>\n",
       "  <tbody>\n",
       "    <tr>\n",
       "      <th>CrossBorder</th>\n",
       "      <td>999400</td>\n",
       "      <td>99.93</td>\n",
       "      <td>object</td>\n",
       "    </tr>\n",
       "    <tr>\n",
       "      <th>CustomValueEstimate</th>\n",
       "      <td>779642</td>\n",
       "      <td>77.96</td>\n",
       "      <td>float64</td>\n",
       "    </tr>\n",
       "    <tr>\n",
       "      <th>WrittenOff</th>\n",
       "      <td>641901</td>\n",
       "      <td>64.18</td>\n",
       "      <td>object</td>\n",
       "    </tr>\n",
       "    <tr>\n",
       "      <th>Rebuilt</th>\n",
       "      <td>641901</td>\n",
       "      <td>64.18</td>\n",
       "      <td>object</td>\n",
       "    </tr>\n",
       "    <tr>\n",
       "      <th>NewVehicle</th>\n",
       "      <td>153295</td>\n",
       "      <td>15.33</td>\n",
       "      <td>object</td>\n",
       "    </tr>\n",
       "    <tr>\n",
       "      <th>Bank</th>\n",
       "      <td>145961</td>\n",
       "      <td>14.59</td>\n",
       "      <td>object</td>\n",
       "    </tr>\n",
       "    <tr>\n",
       "      <th>AccountType</th>\n",
       "      <td>40232</td>\n",
       "      <td>4.02</td>\n",
       "      <td>object</td>\n",
       "    </tr>\n",
       "    <tr>\n",
       "      <th>Gender</th>\n",
       "      <td>9536</td>\n",
       "      <td>0.95</td>\n",
       "      <td>object</td>\n",
       "    </tr>\n",
       "    <tr>\n",
       "      <th>MaritalStatus</th>\n",
       "      <td>8259</td>\n",
       "      <td>0.83</td>\n",
       "      <td>object</td>\n",
       "    </tr>\n",
       "    <tr>\n",
       "      <th>mmcode</th>\n",
       "      <td>552</td>\n",
       "      <td>0.06</td>\n",
       "      <td>float64</td>\n",
       "    </tr>\n",
       "    <tr>\n",
       "      <th>make</th>\n",
       "      <td>552</td>\n",
       "      <td>0.06</td>\n",
       "      <td>object</td>\n",
       "    </tr>\n",
       "    <tr>\n",
       "      <th>VehicleType</th>\n",
       "      <td>552</td>\n",
       "      <td>0.06</td>\n",
       "      <td>object</td>\n",
       "    </tr>\n",
       "    <tr>\n",
       "      <th>bodytype</th>\n",
       "      <td>552</td>\n",
       "      <td>0.06</td>\n",
       "      <td>object</td>\n",
       "    </tr>\n",
       "    <tr>\n",
       "      <th>kilowatts</th>\n",
       "      <td>552</td>\n",
       "      <td>0.06</td>\n",
       "      <td>float64</td>\n",
       "    </tr>\n",
       "    <tr>\n",
       "      <th>cubiccapacity</th>\n",
       "      <td>552</td>\n",
       "      <td>0.06</td>\n",
       "      <td>float64</td>\n",
       "    </tr>\n",
       "    <tr>\n",
       "      <th>Cylinders</th>\n",
       "      <td>552</td>\n",
       "      <td>0.06</td>\n",
       "      <td>float64</td>\n",
       "    </tr>\n",
       "    <tr>\n",
       "      <th>Model</th>\n",
       "      <td>552</td>\n",
       "      <td>0.06</td>\n",
       "      <td>object</td>\n",
       "    </tr>\n",
       "    <tr>\n",
       "      <th>NumberOfDoors</th>\n",
       "      <td>552</td>\n",
       "      <td>0.06</td>\n",
       "      <td>float64</td>\n",
       "    </tr>\n",
       "    <tr>\n",
       "      <th>VehicleIntroDate</th>\n",
       "      <td>552</td>\n",
       "      <td>0.06</td>\n",
       "      <td>object</td>\n",
       "    </tr>\n",
       "    <tr>\n",
       "      <th>CapitalOutstanding</th>\n",
       "      <td>2</td>\n",
       "      <td>0.00</td>\n",
       "      <td>object</td>\n",
       "    </tr>\n",
       "  </tbody>\n",
       "</table>\n",
       "</div>"
      ],
      "text/plain": [
       "                     Missing Values  % of Total Values    Dtype\n",
       "CrossBorder                  999400              99.93   object\n",
       "CustomValueEstimate          779642              77.96  float64\n",
       "WrittenOff                   641901              64.18   object\n",
       "Rebuilt                      641901              64.18   object\n",
       "NewVehicle                   153295              15.33   object\n",
       "Bank                         145961              14.59   object\n",
       "AccountType                   40232               4.02   object\n",
       "Gender                         9536               0.95   object\n",
       "MaritalStatus                  8259               0.83   object\n",
       "mmcode                          552               0.06  float64\n",
       "make                            552               0.06   object\n",
       "VehicleType                     552               0.06   object\n",
       "bodytype                        552               0.06   object\n",
       "kilowatts                       552               0.06  float64\n",
       "cubiccapacity                   552               0.06  float64\n",
       "Cylinders                       552               0.06  float64\n",
       "Model                           552               0.06   object\n",
       "NumberOfDoors                   552               0.06  float64\n",
       "VehicleIntroDate                552               0.06   object\n",
       "CapitalOutstanding                2               0.00   object"
      ]
     },
     "execution_count": 23,
     "metadata": {},
     "output_type": "execute_result"
    }
   ],
   "source": [
    "missing_values_table(cleaned_df)"
   ]
  },
  {
   "cell_type": "code",
   "execution_count": 46,
   "metadata": {},
   "outputs": [
    {
     "name": "stdout",
     "output_type": "stream",
     "text": [
      "Missing values in CrossBorder: 999400\n"
     ]
    }
   ],
   "source": [
    "missing_count = cleaned_df['CrossBorder'].isna().sum()\n",
    "print(f\"Missing values in CrossBorder: {missing_count}\")"
   ]
  },
  {
   "cell_type": "markdown",
   "metadata": {},
   "source": [
    "Since CrossBorder column is almost all null we will remove it."
   ]
  },
  {
   "cell_type": "code",
   "execution_count": 47,
   "metadata": {},
   "outputs": [
    {
     "name": "stdout",
     "output_type": "stream",
     "text": [
      "11 columns were dropped.\n"
     ]
    }
   ],
   "source": [
    "drop_columns(cleaned_df, 'CrossBorder')"
   ]
  },
  {
   "cell_type": "markdown",
   "metadata": {},
   "source": [
    "Since \"Rebuilt\" , \"NewVehicle\" , \"Gender\", \"MaritalStatus\"and \"WrittenOff\"  are categorical columns, it is better to impute them with the value \"unknown\" so that we don't bias the data."
   ]
  },
  {
   "cell_type": "code",
   "execution_count": 48,
   "metadata": {},
   "outputs": [
    {
     "name": "stdout",
     "output_type": "stream",
     "text": [
      "641901 missing values in the column Rebuilt have been replaced by unknown.\n",
      "153295 missing values in the column NewVehicle have been replaced by unknown.\n",
      "641901 missing values in the column WrittenOff have been replaced by unknown.\n",
      "9536 missing values in the column Gender have been replaced by unknown.\n",
      "145961 missing values in the column Bank have been replaced by unknown.\n",
      "8259 missing values in the column MaritalStatus have been replaced by unknown.\n"
     ]
    },
    {
     "data": {
      "text/plain": [
       "0          Not specified\n",
       "1          Not specified\n",
       "2          Not specified\n",
       "3          Not specified\n",
       "4          Not specified\n",
       "               ...      \n",
       "1000093           Single\n",
       "1000094           Single\n",
       "1000095           Single\n",
       "1000096           Single\n",
       "1000097           Single\n",
       "Name: MaritalStatus, Length: 1000098, dtype: object"
      ]
     },
     "execution_count": 48,
     "metadata": {},
     "output_type": "execute_result"
    }
   ],
   "source": [
    "fix_missing_value(cleaned_df, 'Rebuilt', 'unknown')\n",
    "fix_missing_value(cleaned_df, 'NewVehicle', 'unknown')\n",
    "fix_missing_value(cleaned_df, 'WrittenOff', 'unknown')\n",
    "fix_missing_value(cleaned_df, 'Gender', 'unknown')\n",
    "fix_missing_value(cleaned_df, 'Bank', 'unknown')\n",
    "fix_missing_value(cleaned_df, 'MaritalStatus', 'unknown')"
   ]
  },
  {
   "cell_type": "markdown",
   "metadata": {},
   "source": [
    "Since the missing percentage of CustomValueEstimate is very high we will impute them with the backward fill method. In this case, using a single value like mean or median is not advisable as it may heavily bais our data in an unwanted way by making the majority of values equal to a single value."
   ]
  },
  {
   "cell_type": "code",
   "execution_count": 51,
   "metadata": {},
   "outputs": [
    {
     "name": "stderr",
     "output_type": "stream",
     "text": [
      "c:\\Users\\USER\\Desktop\\KAIM\\AlphaCare-Insurance-Analysis\\scripts\\Data_Cleaner.py:93: FutureWarning: Series.fillna with 'method' is deprecated and will raise in a future version. Use obj.ffill() or obj.bfill() instead.\n",
      "  df[col] = df[col].fillna(method='bfill')\n"
     ]
    },
    {
     "name": "stdout",
     "output_type": "stream",
     "text": [
      "779642 missing values in the column CustomValueEstimate have been replaced using the backward fill method.\n"
     ]
    },
    {
     "data": {
      "text/plain": [
       "0          119300.0\n",
       "1          119300.0\n",
       "2          119300.0\n",
       "3          119300.0\n",
       "4          119300.0\n",
       "             ...   \n",
       "1000093         NaN\n",
       "1000094         NaN\n",
       "1000095         NaN\n",
       "1000096         NaN\n",
       "1000097         NaN\n",
       "Name: CustomValueEstimate, Length: 1000098, dtype: float64"
      ]
     },
     "execution_count": 51,
     "metadata": {},
     "output_type": "execute_result"
    }
   ],
   "source": [
    "fix_missing_bfill(cleaned_df, 'CustomValueEstimate')"
   ]
  },
  {
   "cell_type": "code",
   "execution_count": 52,
   "metadata": {},
   "outputs": [
    {
     "name": "stdout",
     "output_type": "stream",
     "text": [
      "The dataset contains 0.09 % missing values.\n"
     ]
    }
   ],
   "source": [
    "percent_missing_values(cleaned_df)"
   ]
  },
  {
   "cell_type": "code",
   "execution_count": 53,
   "metadata": {},
   "outputs": [
    {
     "name": "stdout",
     "output_type": "stream",
     "text": [
      "4.08 % of the rows in the dataset contain atleast one missing value.\n"
     ]
    }
   ],
   "source": [
    "percent_missing_rows(cleaned_df)"
   ]
  },
  {
   "cell_type": "markdown",
   "metadata": {},
   "source": [
    "Since only 4.08% of the rows contain atleast one missing value and the total number of rows is around 150000, dropping these rows won't have a noticable negative impact."
   ]
  },
  {
   "cell_type": "code",
   "execution_count": 54,
   "metadata": {},
   "outputs": [
    {
     "name": "stdout",
     "output_type": "stream",
     "text": [
      "40840 rows containg missing values were dropped.\n"
     ]
    }
   ],
   "source": [
    "drop_rows_with_missing_values(cleaned_df)"
   ]
  },
  {
   "cell_type": "code",
   "execution_count": 55,
   "metadata": {},
   "outputs": [
    {
     "name": "stdout",
     "output_type": "stream",
     "text": [
      "The dataset contains 0.0 % missing values.\n"
     ]
    }
   ],
   "source": [
    "percent_missing_values(cleaned_df)"
   ]
  },
  {
   "cell_type": "markdown",
   "metadata": {},
   "source": [
    "Now there is no missing value."
   ]
  }
 ],
 "metadata": {
  "kernelspec": {
   "display_name": ".venv",
   "language": "python",
   "name": "python3"
  },
  "language_info": {
   "codemirror_mode": {
    "name": "ipython",
    "version": 3
   },
   "file_extension": ".py",
   "mimetype": "text/x-python",
   "name": "python",
   "nbconvert_exporter": "python",
   "pygments_lexer": "ipython3",
   "version": "3.10.0"
  }
 },
 "nbformat": 4,
 "nbformat_minor": 2
}
